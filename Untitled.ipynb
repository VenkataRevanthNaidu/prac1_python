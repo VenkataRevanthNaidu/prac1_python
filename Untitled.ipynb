{
 "cells": [
  {
   "cell_type": "code",
   "execution_count": 1,
   "id": "3ba4eb58-ce6f-4aac-95f4-4b5e463903db",
   "metadata": {},
   "outputs": [
    {
     "name": "stdout",
     "output_type": "stream",
     "text": [
      "Twinkle, twinkle, little star, \n",
      "\tHow I wonder what you are! \n",
      "\t\tUp above the world so high, \n",
      "\t\tLike a diamond in the sky. \n",
      "Twinkle, twinkle, little star, \n",
      "\tHow I wonder what you are\n"
     ]
    }
   ],
   "source": [
    "# Write a Python program to print the following string in a specific format.\n",
    "# Sample String : \"Twinkle, twinkle, little star, \n",
    "#                       How I wonder what you are! \n",
    "#                           Up above the world so high, \n",
    "#                           Like a diamond in the sky. \n",
    "#                   Twinkle, twinkle, little star, \n",
    "#                       How I wonder what you are\"\n",
    "# Output :\n",
    "print(\"Twinkle, twinkle, little star, \\n\\tHow I wonder what you are! \\n\\t\\tUp above the world so high, \\n\\t\\tLike a diamond in the sky. \\nTwinkle, twinkle, little star, \\n\\tHow I wonder what you are\")"
   ]
  },
  {
   "cell_type": "code",
   "execution_count": 2,
   "id": "19f27e07-1dd7-4491-801e-7c17972e2da8",
   "metadata": {},
   "outputs": [
    {
     "name": "stdout",
     "output_type": "stream",
     "text": [
      "python version: \n",
      "3.9.7 (default, Sep 16 2021, 08:50:36) \n",
      "[Clang 10.0.0 ]\n"
     ]
    }
   ],
   "source": [
    "# Write a Python program to find out what version of Python you are using.\n",
    "# output :\n",
    "import sys \n",
    "print(\"python version: \")\n",
    "print(sys.version)"
   ]
  },
  {
   "cell_type": "code",
   "execution_count": 3,
   "id": "a582e067-1df8-46bd-b256-94b44e4fdb09",
   "metadata": {},
   "outputs": [
    {
     "name": "stdout",
     "output_type": "stream",
     "text": [
      "current date and time: \n",
      "2023-10-18 23-05-15\n"
     ]
    }
   ],
   "source": [
    "# Write a Python program to display the current date and time.\n",
    "# Sample Output :\n",
    "# Current date and time :\n",
    "# 2014-07-05 14:34:14\n",
    "# The fourth line print (now.strftime(\"%Y-%m-%d %H:%M:%S\")) uses the strftime() method of the datetime object to format the \n",
    "# date and time as a string in the format \"YYYY-MM-DD HH:MM:SS\" and prints it to the console.\n",
    "import datetime\n",
    "now = datetime.datetime.now()\n",
    "print(\"current date and time: \\n\"+now.strftime(\"%Y-%m-%d %H-%M-%S\"))"
   ]
  },
  {
   "cell_type": "code",
   "execution_count": 4,
   "id": "831b8d11-2bf5-4f53-99e7-9d25987bb11c",
   "metadata": {},
   "outputs": [
    {
     "name": "stdin",
     "output_type": "stream",
     "text": [
      "enter the raidus of ciricle: 3\n"
     ]
    },
    {
     "name": "stdout",
     "output_type": "stream",
     "text": [
      "28.274333882308138\n"
     ]
    }
   ],
   "source": [
    "# Write a Python program that calculates the area of a circle based on the radius entered by the user\n",
    "# For list of mathematical function is import math\n",
    "import math\n",
    "r=float(input(\"enter the raidus of ciricle:\"))\n",
    "print(math.pi*r**2)"
   ]
  },
  {
   "cell_type": "code",
   "execution_count": 5,
   "id": "6ab27257-209f-452c-ad99-05646f702ddc",
   "metadata": {},
   "outputs": [
    {
     "name": "stdin",
     "output_type": "stream",
     "text": [
      "Enter the first name: venkata\n",
      "Enter the last name: danala\n"
     ]
    },
    {
     "name": "stdout",
     "output_type": "stream",
     "text": [
      "Danala Venkata\n"
     ]
    }
   ],
   "source": [
    "# Write a Python program that accepts the user's first and last name \n",
    "# and prints them in reverse order with a space between them.\n",
    "first_name=str(input(\"Enter the first name:\"))\n",
    "last_name=str(input(\"Enter the last name:\"))\n",
    "print(f\"{last_name.title()} {first_name.title()}\")"
   ]
  },
  {
   "cell_type": "code",
   "execution_count": 6,
   "id": "d9e377e4-6718-426a-b029-844a3bb58350",
   "metadata": {},
   "outputs": [
    {
     "name": "stdin",
     "output_type": "stream",
     "text": [
      "Enter the values 2,4,6,8\n"
     ]
    },
    {
     "name": "stdout",
     "output_type": "stream",
     "text": [
      "List: ['2', '4', '6', '8']\n",
      "Tuple: ('2', '4', '6', '8')\n"
     ]
    }
   ],
   "source": [
    "# Write a Python program that accepts a sequence of comma-separated numbers \n",
    "# from the user and generates a list and a tuple of those numbers.\n",
    "n = input(\"Enter the values\")\n",
    "values = n.split(\",\")\n",
    "print(\"List: \" +str(values))\n",
    "tup = (*values, ) \n",
    "print(\"Tuple: \"+str(tup))"
   ]
  },
  {
   "cell_type": "code",
   "execution_count": 9,
   "id": "ca550b34-cb3d-423a-b2d4-63e67a5a7ef4",
   "metadata": {},
   "outputs": [
    {
     "name": "stdin",
     "output_type": "stream",
     "text": [
      "enter the file name: py.java\n"
     ]
    },
    {
     "name": "stdout",
     "output_type": "stream",
     "text": [
      "File extension is:java\n"
     ]
    }
   ],
   "source": [
    "file_name=input(\"enter the file name:\")\n",
    "file= file_name.split(\".\")\n",
    "print(\"File extension is: \"+file[-1])"
   ]
  },
  {
   "cell_type": "code",
   "execution_count": 19,
   "id": "629e2714-940d-4d2f-a94f-dd185f5044fb",
   "metadata": {},
   "outputs": [
    {
     "name": "stdout",
     "output_type": "stream",
     "text": [
      "Red Black\n"
     ]
    }
   ],
   "source": [
    "color_list = [\"Red\",\"Green\",\"White\" ,\"Black\"]\n",
    "print(color_list[0],color_list[-1])"
   ]
  },
  {
   "cell_type": "code",
   "execution_count": 23,
   "id": "7233baad-12d0-466c-9637-a9777ec9e519",
   "metadata": {},
   "outputs": [
    {
     "name": "stdout",
     "output_type": "stream",
     "text": [
      "1/12/2023\n"
     ]
    }
   ],
   "source": [
    "n_date=(1,12,2023)\n",
    "print(\"%i/%i/%i\"%n_date)"
   ]
  },
  {
   "cell_type": "code",
   "execution_count": 33,
   "id": "66700e5d-b5e6-4e3d-8c55-4df522e1cb99",
   "metadata": {},
   "outputs": [
    {
     "name": "stdin",
     "output_type": "stream",
     "text": [
      "Input an integer :  5\n"
     ]
    },
    {
     "name": "stdout",
     "output_type": "stream",
     "text": [
      "615\n"
     ]
    }
   ],
   "source": [
    "a = int(input(\"Input an integer : \"))\n",
    "n1 = int( \"%s\" % a )\n",
    "n2 = int( \"%s%s\" % (a,a) )\n",
    "n3 = int( \"%s%s%s\" % (a,a,a) )\n",
    "print (n1+n2+n3)"
   ]
  },
  {
   "cell_type": "code",
   "execution_count": 12,
   "id": "f5f7e972-23db-4fb1-a400-144877db006d",
   "metadata": {},
   "outputs": [
    {
     "name": "stdout",
     "output_type": "stream",
     "text": [
      "Return the absolute value of the argument.\n"
     ]
    }
   ],
   "source": [
    "print(abs.__doc__)"
   ]
  },
  {
   "cell_type": "code",
   "execution_count": 17,
   "id": "c1f78145-fa2b-42cc-aedf-980507655d71",
   "metadata": {},
   "outputs": [
    {
     "name": "stdin",
     "output_type": "stream",
     "text": [
      "enter the month 10\n",
      "enter the year 1000\n"
     ]
    },
    {
     "name": "stdout",
     "output_type": "stream",
     "text": [
      "    October 1000\n",
      "Mo Tu We Th Fr Sa Su\n",
      "       1  2  3  4  5\n",
      " 6  7  8  9 10 11 12\n",
      "13 14 15 16 17 18 19\n",
      "20 21 22 23 24 25 26\n",
      "27 28 29 30 31\n",
      "\n"
     ]
    }
   ],
   "source": [
    "import calendar as cal\n",
    "month=int(input(\"enter the month\"))\n",
    "year= int(input(\"enter the year\"))\n",
    "print(cal.month(year,month))"
   ]
  },
  {
   "cell_type": "code",
   "execution_count": 18,
   "id": "dbaea219-75ac-4fc3-9b9a-79c4df151392",
   "metadata": {},
   "outputs": [
    {
     "name": "stdout",
     "output_type": "stream",
     "text": [
      "a string that you \"don't\" have to escape\n",
      "This\n",
      "is a ....... multi-line\n",
      "heredoc string --------> example\n"
     ]
    }
   ],
   "source": [
    "print(\"\"\"a string that you \"don't\" have to escape\n",
    "This\n",
    "is a ....... multi-line\n",
    "heredoc string --------> example\"\"\")"
   ]
  },
  {
   "cell_type": "code",
   "execution_count": 22,
   "id": "b1583108-247d-416a-81b3-386043b68d05",
   "metadata": {},
   "outputs": [
    {
     "name": "stdout",
     "output_type": "stream",
     "text": [
      "31 days, 0:00:00\n"
     ]
    }
   ],
   "source": [
    "from datetime import date\n",
    "n1_date=date(2023,12,2)\n",
    "n2_date=date(2024,1,2)\n",
    "n3=n2_date-n1_date\n",
    "print(n3)"
   ]
  },
  {
   "cell_type": "code",
   "execution_count": 23,
   "id": "f14a6a9b-44e9-480c-be1a-591bdcecda93",
   "metadata": {},
   "outputs": [
    {
     "name": "stdin",
     "output_type": "stream",
     "text": [
      "enter the raidu of sphere 6\n"
     ]
    },
    {
     "name": "stdout",
     "output_type": "stream",
     "text": [
      "904.7786842338603\n"
     ]
    }
   ],
   "source": [
    "import math\n",
    "r=int(input(\"enter the raidu of sphere\"))\n",
    "formula =4/3*math.pi*r**3\n",
    "print(formula)"
   ]
  },
  {
   "cell_type": "code",
   "execution_count": 32,
   "id": "25a6f826-98af-484f-8607-38b3e4a7b93e",
   "metadata": {},
   "outputs": [
    {
     "name": "stdin",
     "output_type": "stream",
     "text": [
      "enter the input 22\n"
     ]
    },
    {
     "name": "stdout",
     "output_type": "stream",
     "text": [
      "10\n"
     ]
    }
   ],
   "source": [
    "# num=int(input(\"enter the number\"))\n",
    "# num_r=num-17\n",
    "# if(num>17):\n",
    "#     print(num_r*2)\n",
    "# else:\n",
    "#     print(abs(num_r))\n",
    "\n",
    "def difference(n):\n",
    "    if(n>17):\n",
    "        return (n-17)*2\n",
    "    else:\n",
    "        return (abs(n-17))\n",
    "n=int(input(\"enter the input\"))\n",
    "print(difference(n))"
   ]
  },
  {
   "cell_type": "code",
   "execution_count": 39,
   "id": "7c6bcc46-aad6-40ea-9618-0708c8604100",
   "metadata": {},
   "outputs": [
    {
     "name": "stdin",
     "output_type": "stream",
     "text": [
      "enter the number 10000\n"
     ]
    },
    {
     "name": "stdout",
     "output_type": "stream",
     "text": [
      "False\n"
     ]
    }
   ],
   "source": [
    "def number(n):\n",
    "    return ((abs(n-1000)<=100)) or (abs(n-2000)<=100)\n",
    "print(number(10000))\n",
    "\n",
    "# number=int(input(\"enter the number\"))\n",
    "# if(number-1000<=100) or (number-2000<=100):\n",
    "#     print(\"True\")\n",
    "# else:\n",
    "#     print(\"False\")"
   ]
  },
  {
   "cell_type": "markdown",
   "id": "613f62d2-4c67-4813-bd89-defc0bcf5106",
   "metadata": {
    "jp-MarkdownHeadingCollapsed": true,
    "tags": []
   },
   "source": []
  },
  {
   "cell_type": "code",
   "execution_count": 43,
   "id": "70ac5981-9a91-4051-8856-cd90ab062e66",
   "metadata": {},
   "outputs": [
    {
     "name": "stdin",
     "output_type": "stream",
     "text": [
      "enter the value 3\n",
      "enter the value 3\n",
      "enter the value 3\n"
     ]
    },
    {
     "name": "stdout",
     "output_type": "stream",
     "text": [
      "27\n"
     ]
    }
   ],
   "source": [
    "def sum(a,b,c):\n",
    "    if(a==b==c):\n",
    "        return (a+b+c)*3\n",
    "    else:\n",
    "        return a+b+c\n",
    "a=int(input(\"enter the value\"))\n",
    "b=int(input(\"enter the value\"))\n",
    "c=int(input(\"enter the value\"))\n",
    "print(sum(a,b,c))"
   ]
  },
  {
   "cell_type": "code",
   "execution_count": 62,
   "id": "b72fd5fe-166d-4b7d-8ae1-2edc5c92d8b7",
   "metadata": {},
   "outputs": [
    {
     "name": "stdin",
     "output_type": "stream",
     "text": [
      "enter the string Isarray\n"
     ]
    },
    {
     "name": "stdout",
     "output_type": "stream",
     "text": [
      "Isarray\n"
     ]
    }
   ],
   "source": [
    "def str(s):\n",
    "    if(s[:2]==\"Is\"):\n",
    "        return s\n",
    "    else:\n",
    "        return \"Is\"+s\n",
    "    \n",
    "s=input(\"enter the string\")\n",
    "print(str(s))"
   ]
  },
  {
   "cell_type": "code",
   "execution_count": 67,
   "id": "97cc3f0c-9333-43fa-bc54-047fb42ab6a6",
   "metadata": {},
   "outputs": [
    {
     "name": "stdin",
     "output_type": "stream",
     "text": [
      "Enter the string .py\n",
      "Enter the number copies required 3\n"
     ]
    },
    {
     "name": "stdout",
     "output_type": "stream",
     "text": [
      ".py.py.py\n"
     ]
    }
   ],
   "source": [
    "def string(a,v):\n",
    "    return a*v\n",
    "a=input(\"Enter the string\")\n",
    "v=int(input(\"Enter the number copies required\"))\n",
    "print(string(a,v))"
   ]
  },
  {
   "cell_type": "code",
   "execution_count": null,
   "id": "0ec1c72e-63f1-48fe-a130-6f3bfffc2d55",
   "metadata": {},
   "outputs": [],
   "source": []
  }
 ],
 "metadata": {
  "kernelspec": {
   "display_name": "Python 3 (ipykernel)",
   "language": "python",
   "name": "python3"
  },
  "language_info": {
   "codemirror_mode": {
    "name": "ipython",
    "version": 3
   },
   "file_extension": ".py",
   "mimetype": "text/x-python",
   "name": "python",
   "nbconvert_exporter": "python",
   "pygments_lexer": "ipython3",
   "version": "3.9.7"
  }
 },
 "nbformat": 4,
 "nbformat_minor": 5
}
